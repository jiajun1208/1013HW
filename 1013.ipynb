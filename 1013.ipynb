{
  "nbformat": 4,
  "nbformat_minor": 0,
  "metadata": {
    "colab": {
      "provenance": []
    },
    "kernelspec": {
      "name": "python3",
      "display_name": "Python 3"
    },
    "language_info": {
      "name": "python"
    }
  },
  "cells": [
    {
      "cell_type": "code",
      "execution_count": 28,
      "metadata": {
        "colab": {
          "base_uri": "https://localhost:8080/"
        },
        "id": "okPY9Bqm5nUb",
        "outputId": "9192a544-edcf-48f3-8b2a-bd8413fdaefd"
      },
      "outputs": [
        {
          "output_type": "stream",
          "name": "stdout",
          "text": [
            "徐嘉駿\n",
            "<class 'str'>\n",
            "B1205038\n",
            "<class 'str'>\n"
          ]
        }
      ],
      "source": [
        "a=\"徐嘉駿\"\n",
        "b=\"B1205038\"\n",
        "print(a)\n",
        "print(type(a))\n",
        "print(b)\n",
        "print(type(b))"
      ]
    },
    {
      "cell_type": "code",
      "source": [
        "personalID=[\"徐嘉駿\",\"B1205038\"]\n",
        "print(personalID[0])\n",
        "print(personalID)"
      ],
      "metadata": {
        "colab": {
          "base_uri": "https://localhost:8080/"
        },
        "id": "O4vIiHby9qDZ",
        "outputId": "ff302211-314b-4b88-e38c-33c52de160b3"
      },
      "execution_count": 30,
      "outputs": [
        {
          "output_type": "stream",
          "name": "stdout",
          "text": [
            "徐嘉駿\n",
            "['徐嘉駿', 'B1205038']\n"
          ]
        }
      ]
    }
  ]
}